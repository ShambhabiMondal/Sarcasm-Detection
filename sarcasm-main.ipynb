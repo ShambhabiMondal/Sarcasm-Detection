{
  "nbformat": 4,
  "nbformat_minor": 0,
  "metadata": {
    "colab": {
      "provenance": [],
      "authorship_tag": "ABX9TyM7xRFUWnIyo1hB4Kpz41Xx",
      "include_colab_link": true
    },
    "kernelspec": {
      "name": "python3",
      "display_name": "Python 3"
    },
    "language_info": {
      "name": "python"
    },
    "accelerator": "GPU",
    "gpuClass": "standard"
  },
  "cells": [
    {
      "cell_type": "markdown",
      "metadata": {
        "id": "view-in-github",
        "colab_type": "text"
      },
      "source": [
        "<a href=\"https://colab.research.google.com/github/ShambhabiMondal/Sarcasm-Detection/blob/main/sarcasm-main.ipynb\" target=\"_parent\"><img src=\"https://colab.research.google.com/assets/colab-badge.svg\" alt=\"Open In Colab\"/></a>"
      ]
    },
    {
      "cell_type": "code",
      "execution_count": 1,
      "metadata": {
        "colab": {
          "base_uri": "https://localhost:8080/"
        },
        "id": "ypEJoX0DWyMi",
        "outputId": "7c451a99-28df-4858-fbfe-52c4db8c4036"
      },
      "outputs": [
        {
          "output_type": "stream",
          "name": "stdout",
          "text": [
            "Mounted at /content/drive\n"
          ]
        }
      ],
      "source": [
        "from google.colab import drive\n",
        "drive.mount('/content/drive')"
      ]
    },
    {
      "cell_type": "code",
      "source": [
        "!unzip /content/drive/MyDrive/archive.zip"
      ],
      "metadata": {
        "colab": {
          "base_uri": "https://localhost:8080/"
        },
        "id": "SlhEsQovXoUG",
        "outputId": "cb3782a2-10b4-4c76-f782-c0ae25f5814d"
      },
      "execution_count": 2,
      "outputs": [
        {
          "output_type": "stream",
          "name": "stdout",
          "text": [
            "Archive:  /content/drive/MyDrive/archive.zip\n",
            "  inflating: Sarcasm_Headlines_Dataset.json  \n",
            "  inflating: Sarcasm_Headlines_Dataset_v2.json  \n"
          ]
        }
      ]
    },
    {
      "cell_type": "code",
      "source": [
        "import numpy as np\n",
        "import json \n",
        "import matplotlib.pyplot as plt\n",
        "import pandas as pd\n",
        "import tensorflow\n",
        "from tensorflow.keras import backend\n",
        "from tensorflow.keras.models import Sequential\n",
        "from tensorflow.keras.utils import to_categorical \n",
        "from tensorflow.keras.preprocessing.text import Tokenizer\n",
        "from tensorflow.keras.preprocessing.sequence import pad_sequences\n",
        "from tensorflow.keras.layers import Embedding, LSTM, Dense, Bidirectional, Dropout, Conv1D, MaxPooling1D"
      ],
      "metadata": {
        "id": "vAItYXJPXrR8"
      },
      "execution_count": 3,
      "outputs": []
    },
    {
      "cell_type": "code",
      "source": [
        "# Reading data from the json file and separating them into sentences and labels\n",
        "\n",
        "datastore = []\n",
        "for line in open(\"/content/Sarcasm_Headlines_Dataset_v2.json\", 'r'):\n",
        "  datastore.append(json.loads(line))\n",
        "\n",
        "sentences = []\n",
        "labels = []\n",
        "\n",
        "for item in datastore:\n",
        "  sentences.append(item['headline'])\n",
        "  labels.append(item['is_sarcastic'])"
      ],
      "metadata": {
        "id": "Dz4jpeI-Xvq4"
      },
      "execution_count": 4,
      "outputs": []
    },
    {
      "cell_type": "code",
      "source": [
        "# Hyperparameters\n",
        "\n",
        "vocab_size = 10000\n",
        "embedding_dim = 32\n",
        "max_length = 100\n",
        "trunc_type = 'post'\n",
        "padding_type='post'\n",
        "oov_tok = \"<OOV>\"\n",
        "training_size = 20000\n",
        "num_epochs = 35"
      ],
      "metadata": {
        "id": "hUKHkEQxXycm"
      },
      "execution_count": 13,
      "outputs": []
    },
    {
      "cell_type": "code",
      "source": [
        "# Splitting the dataset into train and test sets\n",
        "\n",
        "training_sentences = sentences[0:training_size]\n",
        "testing_sentences = sentences[training_size:]\n",
        "\n",
        "training_labels = labels[0:training_size]\n",
        "testing_labels = labels[training_size:]"
      ],
      "metadata": {
        "id": "EPRgy0lUX_T1"
      },
      "execution_count": 14,
      "outputs": []
    },
    {
      "cell_type": "code",
      "source": [
        "# Fitting the Tokenizer on training data\n",
        "\n",
        "tokenizer = Tokenizer(num_words=vocab_size, oov_token=oov_tok)\n",
        "\n",
        "tokenizer.fit_on_texts(training_sentences)\n",
        "total_words = len(tokenizer.word_index) + 1"
      ],
      "metadata": {
        "id": "lxqelRL3YAAC"
      },
      "execution_count": 15,
      "outputs": []
    },
    {
      "cell_type": "code",
      "source": [
        "# Creating padded sequences from train and test data\n",
        "\n",
        "training_sequences = tokenizer.texts_to_sequences(training_sentences)\n",
        "training_padded = pad_sequences(training_sequences, maxlen=max_length, padding=padding_type, truncating=trunc_type)\n",
        "\n",
        "testing_sequences = tokenizer.texts_to_sequences(testing_sentences)\n",
        "testing_padded = pad_sequences(testing_sequences, maxlen=max_length, padding=padding_type, truncating=trunc_type)"
      ],
      "metadata": {
        "id": "hZEGi_N6ZGIp"
      },
      "execution_count": 16,
      "outputs": []
    },
    {
      "cell_type": "code",
      "source": [
        "# Setting the model parameters\n",
        "\n",
        "def create_model(total_words, max_length, embedding_dim):\n",
        "    model = Sequential()\n",
        "\n",
        "    model.add(Embedding(total_words, embedding_dim, input_length=max_length))\n",
        "    model.add(Dropout(0.5))\n",
        "    model.add(Conv1D(64, 5, activation='relu'))\n",
        "    model.add(MaxPooling1D(pool_size=5))\n",
        "    model.add(Bidirectional(LSTM(250)))\n",
        "    model.add(Dense(24, activation='relu'))\n",
        "    model.add(Dense(1, activation='sigmoid'))\n",
        "\n",
        "    model.compile(loss='binary_crossentropy',\n",
        "                  optimizer='adam',\n",
        "                  metrics=['accuracy'])\n",
        "\n",
        "    return model"
      ],
      "metadata": {
        "id": "8QxQwzy_Z6q1"
      },
      "execution_count": 17,
      "outputs": []
    },
    {
      "cell_type": "code",
      "source": [
        "# Converting the train and test data to NumPy arrays for compatibility with newer version of TensorFlow\n",
        "\n",
        "training_padded = np.array(training_padded)\n",
        "training_labels = np.array(training_labels)\n",
        "\n",
        "testing_padded = np.array(testing_padded)\n",
        "testing_labels = np.array(testing_labels)"
      ],
      "metadata": {
        "id": "sQZxtA2ba0KU"
      },
      "execution_count": 18,
      "outputs": []
    },
    {
      "cell_type": "code",
      "source": [
        "# Training the model\n",
        "\n",
        "model = create_model(total_words, max_length, embedding_dim)\n",
        "backend.set_value(model.optimizer.learning_rate, 0.001)\n",
        "\n",
        "history = model.fit(training_padded, training_labels, epochs=num_epochs,\n",
        "                    validation_data=(testing_padded, testing_labels), verbose=2)"
      ],
      "metadata": {
        "colab": {
          "base_uri": "https://localhost:8080/"
        },
        "id": "mo-LxNVcasa6",
        "outputId": "01d3edf6-a048-431c-8e9c-6cbe4c433a05"
      },
      "execution_count": 19,
      "outputs": [
        {
          "output_type": "stream",
          "name": "stdout",
          "text": [
            "Epoch 1/35\n",
            "625/625 - 24s - loss: 0.4771 - accuracy: 0.7511 - val_loss: 0.3352 - val_accuracy: 0.8543 - 24s/epoch - 39ms/step\n",
            "Epoch 2/35\n",
            "625/625 - 6s - loss: 0.2715 - accuracy: 0.8898 - val_loss: 0.3159 - val_accuracy: 0.8587 - 6s/epoch - 10ms/step\n",
            "Epoch 3/35\n",
            "625/625 - 6s - loss: 0.1899 - accuracy: 0.9275 - val_loss: 0.3412 - val_accuracy: 0.8529 - 6s/epoch - 10ms/step\n",
            "Epoch 4/35\n",
            "625/625 - 6s - loss: 0.1491 - accuracy: 0.9428 - val_loss: 0.3610 - val_accuracy: 0.8550 - 6s/epoch - 10ms/step\n",
            "Epoch 5/35\n",
            "625/625 - 6s - loss: 0.1141 - accuracy: 0.9568 - val_loss: 0.4120 - val_accuracy: 0.8564 - 6s/epoch - 10ms/step\n",
            "Epoch 6/35\n",
            "625/625 - 5s - loss: 0.0881 - accuracy: 0.9670 - val_loss: 0.4917 - val_accuracy: 0.8428 - 5s/epoch - 8ms/step\n",
            "Epoch 7/35\n",
            "625/625 - 5s - loss: 0.0709 - accuracy: 0.9740 - val_loss: 0.4865 - val_accuracy: 0.8491 - 5s/epoch - 8ms/step\n",
            "Epoch 8/35\n",
            "625/625 - 6s - loss: 0.0659 - accuracy: 0.9748 - val_loss: 0.5193 - val_accuracy: 0.8515 - 6s/epoch - 10ms/step\n",
            "Epoch 9/35\n",
            "625/625 - 5s - loss: 0.0571 - accuracy: 0.9787 - val_loss: 0.4958 - val_accuracy: 0.8452 - 5s/epoch - 8ms/step\n",
            "Epoch 10/35\n",
            "625/625 - 6s - loss: 0.0466 - accuracy: 0.9832 - val_loss: 0.5278 - val_accuracy: 0.8489 - 6s/epoch - 10ms/step\n",
            "Epoch 11/35\n",
            "625/625 - 6s - loss: 0.0464 - accuracy: 0.9826 - val_loss: 0.6130 - val_accuracy: 0.8399 - 6s/epoch - 9ms/step\n",
            "Epoch 12/35\n",
            "625/625 - 6s - loss: 0.0414 - accuracy: 0.9840 - val_loss: 0.7094 - val_accuracy: 0.8442 - 6s/epoch - 9ms/step\n",
            "Epoch 13/35\n",
            "625/625 - 6s - loss: 0.0382 - accuracy: 0.9865 - val_loss: 0.5874 - val_accuracy: 0.8468 - 6s/epoch - 9ms/step\n",
            "Epoch 14/35\n",
            "625/625 - 5s - loss: 0.0350 - accuracy: 0.9872 - val_loss: 0.6535 - val_accuracy: 0.8459 - 5s/epoch - 8ms/step\n",
            "Epoch 15/35\n",
            "625/625 - 6s - loss: 0.0310 - accuracy: 0.9886 - val_loss: 0.6985 - val_accuracy: 0.8471 - 6s/epoch - 10ms/step\n",
            "Epoch 16/35\n",
            "625/625 - 5s - loss: 0.0287 - accuracy: 0.9897 - val_loss: 0.6953 - val_accuracy: 0.8419 - 5s/epoch - 9ms/step\n",
            "Epoch 17/35\n",
            "625/625 - 6s - loss: 0.0296 - accuracy: 0.9890 - val_loss: 0.7219 - val_accuracy: 0.8409 - 6s/epoch - 9ms/step\n",
            "Epoch 18/35\n",
            "625/625 - 5s - loss: 0.0247 - accuracy: 0.9908 - val_loss: 0.7838 - val_accuracy: 0.8424 - 5s/epoch - 8ms/step\n",
            "Epoch 19/35\n",
            "625/625 - 5s - loss: 0.0252 - accuracy: 0.9908 - val_loss: 0.7162 - val_accuracy: 0.8451 - 5s/epoch - 8ms/step\n",
            "Epoch 20/35\n",
            "625/625 - 6s - loss: 0.0217 - accuracy: 0.9923 - val_loss: 0.8285 - val_accuracy: 0.8424 - 6s/epoch - 10ms/step\n",
            "Epoch 21/35\n",
            "625/625 - 5s - loss: 0.0227 - accuracy: 0.9919 - val_loss: 0.7849 - val_accuracy: 0.8433 - 5s/epoch - 8ms/step\n",
            "Epoch 22/35\n",
            "625/625 - 6s - loss: 0.0225 - accuracy: 0.9919 - val_loss: 0.7238 - val_accuracy: 0.8433 - 6s/epoch - 9ms/step\n",
            "Epoch 23/35\n",
            "625/625 - 6s - loss: 0.0196 - accuracy: 0.9928 - val_loss: 0.7608 - val_accuracy: 0.8422 - 6s/epoch - 9ms/step\n",
            "Epoch 24/35\n",
            "625/625 - 5s - loss: 0.0178 - accuracy: 0.9935 - val_loss: 0.7957 - val_accuracy: 0.8414 - 5s/epoch - 8ms/step\n",
            "Epoch 25/35\n",
            "625/625 - 6s - loss: 0.0228 - accuracy: 0.9918 - val_loss: 0.7508 - val_accuracy: 0.8420 - 6s/epoch - 10ms/step\n",
            "Epoch 26/35\n",
            "625/625 - 5s - loss: 0.0198 - accuracy: 0.9931 - val_loss: 0.7631 - val_accuracy: 0.8417 - 5s/epoch - 8ms/step\n",
            "Epoch 27/35\n",
            "625/625 - 6s - loss: 0.0180 - accuracy: 0.9937 - val_loss: 0.7998 - val_accuracy: 0.8434 - 6s/epoch - 10ms/step\n",
            "Epoch 28/35\n",
            "625/625 - 5s - loss: 0.0160 - accuracy: 0.9945 - val_loss: 0.7750 - val_accuracy: 0.8394 - 5s/epoch - 8ms/step\n",
            "Epoch 29/35\n",
            "625/625 - 6s - loss: 0.0151 - accuracy: 0.9948 - val_loss: 0.7428 - val_accuracy: 0.8415 - 6s/epoch - 9ms/step\n",
            "Epoch 30/35\n",
            "625/625 - 6s - loss: 0.0142 - accuracy: 0.9949 - val_loss: 0.8177 - val_accuracy: 0.8400 - 6s/epoch - 9ms/step\n",
            "Epoch 31/35\n",
            "625/625 - 5s - loss: 0.0136 - accuracy: 0.9944 - val_loss: 0.8890 - val_accuracy: 0.8427 - 5s/epoch - 8ms/step\n",
            "Epoch 32/35\n",
            "625/625 - 7s - loss: 0.0168 - accuracy: 0.9938 - val_loss: 0.7661 - val_accuracy: 0.8455 - 7s/epoch - 11ms/step\n",
            "Epoch 33/35\n",
            "625/625 - 5s - loss: 0.0153 - accuracy: 0.9947 - val_loss: 0.7983 - val_accuracy: 0.8471 - 5s/epoch - 8ms/step\n",
            "Epoch 34/35\n",
            "625/625 - 6s - loss: 0.0146 - accuracy: 0.9949 - val_loss: 0.8479 - val_accuracy: 0.8421 - 6s/epoch - 10ms/step\n",
            "Epoch 35/35\n",
            "625/625 - 5s - loss: 0.0122 - accuracy: 0.9955 - val_loss: 0.8717 - val_accuracy: 0.8450 - 5s/epoch - 8ms/step\n"
          ]
        }
      ]
    },
    {
      "cell_type": "code",
      "source": [
        "# Accuracy and loss plots for the model\n",
        "\n",
        "acc = history.history['accuracy']\n",
        "loss = history.history['loss']\n",
        "val_acc = history.history['val_accuracy']\n",
        "val_loss = history.history['val_loss']\n",
        "\n",
        "epochs = range(len(acc))\n",
        "\n",
        "plt.plot(epochs, acc, 'b', label='Training accuracy')\n",
        "plt.plot(epochs, val_acc, 'r', label='Testing accuracy')\n",
        "plt.title('Accuracy')\n",
        "plt.legend()\n",
        "\n",
        "plt.figure()\n",
        "\n",
        "plt.plot(epochs, loss, 'b', label='Training Loss')\n",
        "plt.plot(epochs, val_loss, 'r', label='Testing Loss')\n",
        "plt.title('Loss')\n",
        "plt.legend()\n",
        "\n",
        "plt.show()"
      ],
      "metadata": {
        "colab": {
          "base_uri": "https://localhost:8080/",
          "height": 887
        },
        "id": "PkGl4KHEb9Pb",
        "outputId": "28560210-529e-4a19-b043-4d6ef6a8b8d7"
      },
      "execution_count": 20,
      "outputs": [
        {
          "output_type": "display_data",
          "data": {
            "text/plain": [
              "<Figure size 640x480 with 1 Axes>"
            ],
            "image/png": "[encoded data removed]"
          },
          "metadata": {}
        },
        {
          "output_type": "display_data",
          "data": {
            "text/plain": [
              "<Figure size 640x480 with 1 Axes>"
            ],
            "image/png": "[encoded data removed]"
          },
          "metadata": {}
        }
      ]
    }
  ]
}
